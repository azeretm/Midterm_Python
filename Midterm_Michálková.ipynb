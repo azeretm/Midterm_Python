{
 "cells": [
  {
   "cell_type": "code",
   "execution_count": 1,
   "metadata": {},
   "outputs": [],
   "source": [
    "import requests\n",
    "from bs4 import BeautifulSoup\n",
    "from time import sleep\n",
    "from tqdm import tqdm\n",
    "\n"
   ]
  },
  {
   "cell_type": "code",
   "execution_count": 39,
   "metadata": {},
   "outputs": [],
   "source": [
    "def getSoup(link):\n",
    "    sleep(0.1)\n",
    "    r = requests.get(link)\n",
    "    r.encoding = 'UTF-8'\n",
    "    return BeautifulSoup(r.text,'lxml')"
   ]
  },
  {
   "cell_type": "code",
   "execution_count": null,
   "metadata": {},
   "outputs": [],
   "source": []
  },
  {
   "cell_type": "code",
   "execution_count": 40,
   "metadata": {},
   "outputs": [
    {
     "data": {
      "text/plain": [
       "['http://wiki.lspace.org/mediawiki/Mrs._Cake',\n",
       " 'http://wiki.lspace.org/mediawiki/Fred_Colon',\n",
       " 'http://wiki.lspace.org/mediawiki/Mrs._Marietta_Cosmopilite',\n",
       " 'http://wiki.lspace.org/mediawiki/Detritus',\n",
       " 'http://wiki.lspace.org/mediawiki/Cut-Me-Own-Throat_Dibbler',\n",
       " 'http://wiki.lspace.org/mediawiki/Dorfl',\n",
       " 'http://wiki.lspace.org/mediawiki/Rufus_Drumknott',\n",
       " 'http://wiki.lspace.org/mediawiki/Gaspode',\n",
       " 'http://wiki.lspace.org/mediawiki/Carrot_Ironfoundersson',\n",
       " 'http://wiki.lspace.org/mediawiki/Leonard_of_Quirm',\n",
       " 'http://wiki.lspace.org/mediawiki/Cheery_Littlebottom',\n",
       " 'http://wiki.lspace.org/mediawiki/Nobby_Nobbs',\n",
       " 'http://wiki.lspace.org/mediawiki/Lady_Sybil_Ramkin',\n",
       " 'http://wiki.lspace.org/mediawiki/Foul_Ole_Ron',\n",
       " 'http://wiki.lspace.org/mediawiki/Reg_Shoe',\n",
       " 'http://wiki.lspace.org/mediawiki/Mr._Slant',\n",
       " 'http://wiki.lspace.org/mediawiki/Angua_von_%C3%9Cberwald',\n",
       " 'http://wiki.lspace.org/mediawiki/Havelock_Vetinari',\n",
       " 'http://wiki.lspace.org/mediawiki/Samuel_Vimes',\n",
       " 'http://wiki.lspace.org/mediawiki/Visit-the-Infidel-with-Explanatory-Pamphlets',\n",
       " 'http://wiki.lspace.org/mediawiki/Willikins']"
      ]
     },
     "execution_count": 40,
     "metadata": {},
     "output_type": "execute_result"
    }
   ],
   "source": [
    "def getAllLinks(link):\n",
    "    soup = getSoup(link)\n",
    "    lis = soup.find('span',{'id':'Unseen_University_and_the_Wizards'}).parent.previous.previous.parent.parent.parent.find_all('li')\n",
    "    return ['http://wiki.lspace.org' + li.find('a')['href'] for li in lis]\n",
    "\n",
    "links = getAllLinks('http://wiki.lspace.org/mediawiki/List_of_Pratchett_characters')\n",
    "links"
   ]
  },
  {
   "cell_type": "code",
   "execution_count": 42,
   "metadata": {},
   "outputs": [
    {
     "data": {
      "text/plain": [
       "['Evadne Cake',\n",
       " 'Fred Colon',\n",
       " 'Marietta Cosmopilite',\n",
       " 'Detritus',\n",
       " 'Cut-Me-Own-Throat Dibbler',\n",
       " 'Dorfl',\n",
       " 'Rufus Drumknott',\n",
       " 'Gaspode',\n",
       " 'Carrot Ironfoundersson',\n",
       " 'Leonard of Quirm',\n",
       " 'Cheery Littlebottom',\n",
       " 'Nobby Nobbs',\n",
       " 'Sybil Ramkin',\n",
       " 'Foul Ole Ron',\n",
       " 'Reg Shoe',\n",
       " 'Slant',\n",
       " 'Angua von Überwald',\n",
       " 'Havelock Vetinari',\n",
       " 'Samuel Vimes',\n",
       " 'Visit-The-Infidel-With-Explanatory-Pamphlets',\n",
       " 'Willikins']"
      ]
     },
     "execution_count": 42,
     "metadata": {},
     "output_type": "execute_result"
    }
   ],
   "source": [
    "def getName(link):\n",
    "    soup = getSoup(link)\n",
    "    return soup.find('h1').text\n",
    "names = [getName(link) for link in links]\n",
    "names"
   ]
  },
  {
   "cell_type": "code",
   "execution_count": null,
   "metadata": {},
   "outputs": [],
   "source": [
    "def "
   ]
  },
  {
   "cell_type": "code",
   "execution_count": null,
   "metadata": {},
   "outputs": [],
   "source": []
  },
  {
   "cell_type": "code",
   "execution_count": null,
   "metadata": {},
   "outputs": [],
   "source": []
  },
  {
   "cell_type": "code",
   "execution_count": null,
   "metadata": {},
   "outputs": [],
   "source": []
  },
  {
   "cell_type": "code",
   "execution_count": null,
   "metadata": {},
   "outputs": [],
   "source": []
  }
 ],
 "metadata": {
  "kernelspec": {
   "display_name": "Python 3",
   "language": "python",
   "name": "python3"
  },
  "language_info": {
   "codemirror_mode": {
    "name": "ipython",
    "version": 3
   },
   "file_extension": ".py",
   "mimetype": "text/x-python",
   "name": "python",
   "nbconvert_exporter": "python",
   "pygments_lexer": "ipython3",
   "version": "3.7.4"
  }
 },
 "nbformat": 4,
 "nbformat_minor": 2
}
